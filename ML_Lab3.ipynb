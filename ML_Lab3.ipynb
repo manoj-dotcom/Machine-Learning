{
  "nbformat": 4,
  "nbformat_minor": 0,
  "metadata": {
    "colab": {
      "provenance": [],
      "mount_file_id": "1ZKDXULd3TQDimPy-Swxh3H6k2jkJYEAJ",
      "authorship_tag": "ABX9TyPOd/Dxi1MTISFDQ3iF+l3L",
      "include_colab_link": true
    },
    "kernelspec": {
      "name": "python3",
      "display_name": "Python 3"
    },
    "language_info": {
      "name": "python"
    }
  },
  "cells": [
    {
      "cell_type": "markdown",
      "metadata": {
        "id": "view-in-github",
        "colab_type": "text"
      },
      "source": [
        "<a href=\"https://colab.research.google.com/github/manoj-dotcom/Machine-Learning/blob/main/ML_Lab3.ipynb\" target=\"_parent\"><img src=\"https://colab.research.google.com/assets/colab-badge.svg\" alt=\"Open In Colab\"/></a>"
      ]
    },
    {
      "cell_type": "code",
      "execution_count": null,
      "metadata": {
        "id": "7y7sN8L0lW-G"
      },
      "outputs": [],
      "source": [
        "from sklearn.datasets import load_iris\n",
        "from sklearn.neighbors import KNeighborsClassifier\n",
        "from sklearn.model_selection import train_test_split"
      ]
    },
    {
      "cell_type": "code",
      "source": [
        "import numpy as np\n",
        "dataset=load_iris()\n",
        "x_train,x_test,y_train,y_test=train_test_split(dataset[\"data\"],dataset[\"target\"],random_state=0)\n",
        "kn=KNeighborsClassifier(n_neighbors=1)\n",
        "kn.fit(x_train,y_train)\n",
        "for i in range(len(x_test)):\n",
        "  x=x_test[i]\n",
        "  x_new=np.array([x])\n",
        "  prediction=kn.predict(x_new)\n",
        "  print(\"TARGET=\",y_test[i],dataset[\"target_names\"][y_test[i]],\"PREDICTED=\",prediction,dataset[\"target_names\"][prediction])\n",
        "print(kn.score(x_test,y_test))"
      ],
      "metadata": {
        "colab": {
          "base_uri": "https://localhost:8080/"
        },
        "id": "rToNnRdxlqW2",
        "outputId": "fa138c6d-7ccf-487d-b068-522ab6941f43"
      },
      "execution_count": null,
      "outputs": [
        {
          "output_type": "stream",
          "name": "stdout",
          "text": [
            "TARGET= 2 virginica PREDICTED= [2] ['virginica']\n",
            "TARGET= 1 versicolor PREDICTED= [1] ['versicolor']\n",
            "TARGET= 0 setosa PREDICTED= [0] ['setosa']\n",
            "TARGET= 2 virginica PREDICTED= [2] ['virginica']\n",
            "TARGET= 0 setosa PREDICTED= [0] ['setosa']\n",
            "TARGET= 2 virginica PREDICTED= [2] ['virginica']\n",
            "TARGET= 0 setosa PREDICTED= [0] ['setosa']\n",
            "TARGET= 1 versicolor PREDICTED= [1] ['versicolor']\n",
            "TARGET= 1 versicolor PREDICTED= [1] ['versicolor']\n",
            "TARGET= 1 versicolor PREDICTED= [1] ['versicolor']\n",
            "TARGET= 2 virginica PREDICTED= [2] ['virginica']\n",
            "TARGET= 1 versicolor PREDICTED= [1] ['versicolor']\n",
            "TARGET= 1 versicolor PREDICTED= [1] ['versicolor']\n",
            "TARGET= 1 versicolor PREDICTED= [1] ['versicolor']\n",
            "TARGET= 1 versicolor PREDICTED= [1] ['versicolor']\n",
            "TARGET= 0 setosa PREDICTED= [0] ['setosa']\n",
            "TARGET= 1 versicolor PREDICTED= [1] ['versicolor']\n",
            "TARGET= 1 versicolor PREDICTED= [1] ['versicolor']\n",
            "TARGET= 0 setosa PREDICTED= [0] ['setosa']\n",
            "TARGET= 0 setosa PREDICTED= [0] ['setosa']\n",
            "TARGET= 2 virginica PREDICTED= [2] ['virginica']\n",
            "TARGET= 1 versicolor PREDICTED= [1] ['versicolor']\n",
            "TARGET= 0 setosa PREDICTED= [0] ['setosa']\n",
            "TARGET= 0 setosa PREDICTED= [0] ['setosa']\n",
            "TARGET= 2 virginica PREDICTED= [2] ['virginica']\n",
            "TARGET= 0 setosa PREDICTED= [0] ['setosa']\n",
            "TARGET= 0 setosa PREDICTED= [0] ['setosa']\n",
            "TARGET= 1 versicolor PREDICTED= [1] ['versicolor']\n",
            "TARGET= 1 versicolor PREDICTED= [1] ['versicolor']\n",
            "TARGET= 0 setosa PREDICTED= [0] ['setosa']\n",
            "TARGET= 2 virginica PREDICTED= [2] ['virginica']\n",
            "TARGET= 1 versicolor PREDICTED= [1] ['versicolor']\n",
            "TARGET= 0 setosa PREDICTED= [0] ['setosa']\n",
            "TARGET= 2 virginica PREDICTED= [2] ['virginica']\n",
            "TARGET= 2 virginica PREDICTED= [2] ['virginica']\n",
            "TARGET= 1 versicolor PREDICTED= [1] ['versicolor']\n",
            "TARGET= 0 setosa PREDICTED= [0] ['setosa']\n",
            "TARGET= 1 versicolor PREDICTED= [2] ['virginica']\n",
            "0.9736842105263158\n"
          ]
        }
      ]
    },
    {
      "cell_type": "code",
      "source": [],
      "metadata": {
        "id": "foZt6BtluARh"
      },
      "execution_count": null,
      "outputs": []
    }
  ]
}