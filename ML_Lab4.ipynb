{
  "nbformat": 4,
  "nbformat_minor": 0,
  "metadata": {
    "colab": {
      "provenance": [],
      "mount_file_id": "1UAsur5wO-aTLE9wb9oGARfyQZR5EcmSx",
      "authorship_tag": "ABX9TyM4PIgg88RFLjb3ACyktMSN",
      "include_colab_link": true
    },
    "kernelspec": {
      "name": "python3",
      "display_name": "Python 3"
    },
    "language_info": {
      "name": "python"
    }
  },
  "cells": [
    {
      "cell_type": "markdown",
      "metadata": {
        "id": "view-in-github",
        "colab_type": "text"
      },
      "source": [
        "<a href=\"https://colab.research.google.com/github/manoj-dotcom/Machine-Learning/blob/main/ML_Lab4.ipynb\" target=\"_parent\"><img src=\"https://colab.research.google.com/assets/colab-badge.svg\" alt=\"Open In Colab\"/></a>"
      ]
    },
    {
      "cell_type": "markdown",
      "source": [
        "Gaussian Naive Bayes"
      ],
      "metadata": {
        "id": "gQdFl1m03u9y"
      }
    },
    {
      "cell_type": "code",
      "execution_count": null,
      "metadata": {
        "colab": {
          "base_uri": "https://localhost:8080/"
        },
        "id": "j9VdjYDKUdiC",
        "outputId": "fb7a55a4-5383-4f42-bf38-0ba9075662e7"
      },
      "outputs": [
        {
          "output_type": "stream",
          "name": "stdout",
          "text": [
            "the first 5 values of data is :\n",
            "     outlook temperature humidity    wind play tennis\n",
            "0     Sunny         Hot     High    Weak          No\n",
            "1     Sunny         Hot     High  Strong          No\n",
            "2  Overcast         Hot     High    Weak         Yes\n",
            "3      Rain        Mild     High    Weak         Yes\n",
            "4      Rain        Cool   Normal    Weak         Yes\n",
            "\n",
            " the first 5 values of train data is :\n",
            "     outlook temperature humidity    wind\n",
            "0     Sunny         Hot     High    Weak\n",
            "1     Sunny         Hot     High  Strong\n",
            "2  Overcast         Hot     High    Weak\n",
            "3      Rain        Mild     High    Weak\n",
            "4      Rain        Cool   Normal    Weak\n",
            "\n",
            " the first 5 values of train output is:\n",
            " 0     No\n",
            "1     No\n",
            "2    Yes\n",
            "3    Yes\n",
            "4    Yes\n",
            "Name: play tennis, dtype: object\n",
            "\n",
            " now the train output is :\n",
            " 0      No\n",
            "1      No\n",
            "2     Yes\n",
            "3     Yes\n",
            "4     Yes\n",
            "5      No\n",
            "6     Yes\n",
            "7      No\n",
            "8     Yes\n",
            "9     Yes\n",
            "10    Yes\n",
            "11    Yes\n",
            "12    Yes\n",
            "13     No\n",
            "Name: play tennis, dtype: object\n",
            "Accuracy is: 1.0\n"
          ]
        },
        {
          "output_type": "stream",
          "name": "stderr",
          "text": [
            "/usr/local/lib/python3.7/dist-packages/pandas/core/generic.py:5516: SettingWithCopyWarning: \n",
            "A value is trying to be set on a copy of a slice from a DataFrame.\n",
            "Try using .loc[row_indexer,col_indexer] = value instead\n",
            "\n",
            "See the caveats in the documentation: https://pandas.pydata.org/pandas-docs/stable/user_guide/indexing.html#returning-a-view-versus-a-copy\n",
            "  self[name] = value\n"
          ]
        }
      ],
      "source": [
        "import pandas as pd\n",
        "from sklearn import tree\n",
        "from sklearn.preprocessing import LabelEncoder\n",
        "from sklearn.naive_bayes import GaussianNB\n",
        "df=pd.read_csv(\"/content/drive/MyDrive/tennisdata.csv\")\n",
        "print(\"the first 5 values of data is :\\n\",df.head())\n",
        "x=df.iloc[:,:-1]\n",
        "print(\"\\n the first 5 values of train data is :\\n\",x.head())\n",
        "y=df.iloc[:,-1]\n",
        "print(\"\\n the first 5 values of train output is:\\n\",y.head())\n",
        "le_outlook=LabelEncoder()\n",
        "x.outlook=le_outlook.fit_transform(x.outlook)\n",
        "le_temperature=LabelEncoder()\n",
        "x.temperature=le_temperature.fit_transform(x.temperature)\n",
        "le_humidity=LabelEncoder()\n",
        "x.humidity=le_humidity.fit_transform(x.humidity)\n",
        "le_wind=LabelEncoder()\n",
        "x.wind=le_wind.fit_transform(x.wind)\n",
        "print(\"\\n now the train output is :\\n\",y)\n",
        "from sklearn.model_selection import train_test_split\n",
        "x_train,x_test,y_train,y_test=train_test_split(x,y,test_size=0.20)\n",
        "classifier=GaussianNB()\n",
        "classifier.fit(x_train,y_train)\n",
        "from sklearn.metrics import accuracy_score\n",
        "print(\"Accuracy is:\",accuracy_score(classifier.predict(x_test),(y_test)))\n"
      ]
    }
  ]
}