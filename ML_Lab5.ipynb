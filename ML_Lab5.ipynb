{
  "nbformat": 4,
  "nbformat_minor": 0,
  "metadata": {
    "colab": {
      "provenance": [],
      "include_colab_link": true
    },
    "kernelspec": {
      "name": "python3",
      "display_name": "Python 3"
    },
    "language_info": {
      "name": "python"
    }
  },
  "cells": [
    {
      "cell_type": "markdown",
      "metadata": {
        "id": "view-in-github",
        "colab_type": "text"
      },
      "source": [
        "<a href=\"https://colab.research.google.com/github/manoj-dotcom/Machine-Learning/blob/main/ML_Lab5.ipynb\" target=\"_parent\"><img src=\"https://colab.research.google.com/assets/colab-badge.svg\" alt=\"Open In Colab\"/></a>"
      ]
    },
    {
      "cell_type": "markdown",
      "source": [
        "Decision Tree"
      ],
      "metadata": {
        "id": "ejAG_OjF4EUx"
      }
    },
    {
      "cell_type": "code",
      "source": [
        "from sklearn.datasets import load_iris\n",
        "from sklearn.neighbors import KNeighborsClassifier\n",
        "from sklearn.model_selection import train_test_split\n",
        "from sklearn import tree\n",
        "import numpy as np\n",
        "dataset=load_iris()\n",
        "x_train,x_test,y_train,y_test=train_test_split(dataset[\"data\"],dataset[\"target\"],random_state=0)\n",
        "kn=KNeighborsClassifier(n_neighbors=1)\n",
        "kn.fit(x_train,y_train)\n",
        "for i in range(len(x_test)):\n",
        "  x=x_test[i]\n",
        "  x_new=np.array([x])\n",
        "  prediction=kn.predict(x_new)\n",
        "  print(\"TARGET=\",y_test[i],dataset[\"target_names\"][y_test[i]],\"PREDICTED=\",prediction,dataset[\"target_names\"][prediction])\n",
        "print(kn.score(x_test,y_test))\n",
        "\n",
        "dtree=tree.DecisionTreeClassifier()\n",
        "dtree.fit(x_train,y_train)\n",
        "tree.plot_tree(dtree)"
      ],
      "metadata": {
        "colab": {
          "base_uri": "https://localhost:8080/",
          "height": 1000
        },
        "id": "oC3fDrTAYLw9",
        "outputId": "25cda873-43cf-4189-c5fd-d2c54b70bdd0"
      },
      "execution_count": null,
      "outputs": [
        {
          "output_type": "stream",
          "name": "stdout",
          "text": [
            "TARGET= 2 virginica PREDICTED= [2] ['virginica']\n",
            "TARGET= 1 versicolor PREDICTED= [1] ['versicolor']\n",
            "TARGET= 0 setosa PREDICTED= [0] ['setosa']\n",
            "TARGET= 2 virginica PREDICTED= [2] ['virginica']\n",
            "TARGET= 0 setosa PREDICTED= [0] ['setosa']\n",
            "TARGET= 2 virginica PREDICTED= [2] ['virginica']\n",
            "TARGET= 0 setosa PREDICTED= [0] ['setosa']\n",
            "TARGET= 1 versicolor PREDICTED= [1] ['versicolor']\n",
            "TARGET= 1 versicolor PREDICTED= [1] ['versicolor']\n",
            "TARGET= 1 versicolor PREDICTED= [1] ['versicolor']\n",
            "TARGET= 2 virginica PREDICTED= [2] ['virginica']\n",
            "TARGET= 1 versicolor PREDICTED= [1] ['versicolor']\n",
            "TARGET= 1 versicolor PREDICTED= [1] ['versicolor']\n",
            "TARGET= 1 versicolor PREDICTED= [1] ['versicolor']\n",
            "TARGET= 1 versicolor PREDICTED= [1] ['versicolor']\n",
            "TARGET= 0 setosa PREDICTED= [0] ['setosa']\n",
            "TARGET= 1 versicolor PREDICTED= [1] ['versicolor']\n",
            "TARGET= 1 versicolor PREDICTED= [1] ['versicolor']\n",
            "TARGET= 0 setosa PREDICTED= [0] ['setosa']\n",
            "TARGET= 0 setosa PREDICTED= [0] ['setosa']\n",
            "TARGET= 2 virginica PREDICTED= [2] ['virginica']\n",
            "TARGET= 1 versicolor PREDICTED= [1] ['versicolor']\n",
            "TARGET= 0 setosa PREDICTED= [0] ['setosa']\n",
            "TARGET= 0 setosa PREDICTED= [0] ['setosa']\n",
            "TARGET= 2 virginica PREDICTED= [2] ['virginica']\n",
            "TARGET= 0 setosa PREDICTED= [0] ['setosa']\n",
            "TARGET= 0 setosa PREDICTED= [0] ['setosa']\n",
            "TARGET= 1 versicolor PREDICTED= [1] ['versicolor']\n",
            "TARGET= 1 versicolor PREDICTED= [1] ['versicolor']\n",
            "TARGET= 0 setosa PREDICTED= [0] ['setosa']\n",
            "TARGET= 2 virginica PREDICTED= [2] ['virginica']\n",
            "TARGET= 1 versicolor PREDICTED= [1] ['versicolor']\n",
            "TARGET= 0 setosa PREDICTED= [0] ['setosa']\n",
            "TARGET= 2 virginica PREDICTED= [2] ['virginica']\n",
            "TARGET= 2 virginica PREDICTED= [2] ['virginica']\n",
            "TARGET= 1 versicolor PREDICTED= [1] ['versicolor']\n",
            "TARGET= 0 setosa PREDICTED= [0] ['setosa']\n",
            "TARGET= 1 versicolor PREDICTED= [2] ['virginica']\n",
            "0.9736842105263158\n"
          ]
        },
        {
          "output_type": "execute_result",
          "data": {
            "text/plain": [
              "[Text(0.4, 0.9, 'X[3] <= 0.8\\ngini = 0.665\\nsamples = 112\\nvalue = [37, 34, 41]'),\n",
              " Text(0.3, 0.7, 'gini = 0.0\\nsamples = 37\\nvalue = [37, 0, 0]'),\n",
              " Text(0.5, 0.7, 'X[2] <= 4.95\\ngini = 0.496\\nsamples = 75\\nvalue = [0, 34, 41]'),\n",
              " Text(0.2, 0.5, 'X[3] <= 1.65\\ngini = 0.153\\nsamples = 36\\nvalue = [0, 33, 3]'),\n",
              " Text(0.1, 0.3, 'gini = 0.0\\nsamples = 32\\nvalue = [0, 32, 0]'),\n",
              " Text(0.3, 0.3, 'X[1] <= 3.1\\ngini = 0.375\\nsamples = 4\\nvalue = [0, 1, 3]'),\n",
              " Text(0.2, 0.1, 'gini = 0.0\\nsamples = 3\\nvalue = [0, 0, 3]'),\n",
              " Text(0.4, 0.1, 'gini = 0.0\\nsamples = 1\\nvalue = [0, 1, 0]'),\n",
              " Text(0.8, 0.5, 'X[2] <= 5.05\\ngini = 0.05\\nsamples = 39\\nvalue = [0, 1, 38]'),\n",
              " Text(0.7, 0.3, 'X[1] <= 2.75\\ngini = 0.375\\nsamples = 4\\nvalue = [0, 1, 3]'),\n",
              " Text(0.6, 0.1, 'gini = 0.0\\nsamples = 3\\nvalue = [0, 0, 3]'),\n",
              " Text(0.8, 0.1, 'gini = 0.0\\nsamples = 1\\nvalue = [0, 1, 0]'),\n",
              " Text(0.9, 0.3, 'gini = 0.0\\nsamples = 35\\nvalue = [0, 0, 35]')]"
            ]
          },
          "metadata": {},
          "execution_count": 1
        },
        {
          "output_type": "display_data",
          "data": {
            "text/plain": [
              "<Figure size 432x288 with 1 Axes>"
            ],
            "image/png": "[encoded data removed]"
          },
          "metadata": {
            "needs_background": "light"
          }
        }
      ]
    }
  ]
}