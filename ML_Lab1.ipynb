{
  "nbformat": 4,
  "nbformat_minor": 0,
  "metadata": {
    "colab": {
      "provenance": [],
      "mount_file_id": "17pzqTxmUstg80lRT8W50VVJuAHs6KKiW",
      "authorship_tag": "ABX9TyMzVFbCrOq8BAwqaDoXYXUu",
      "include_colab_link": true
    },
    "kernelspec": {
      "name": "python3",
      "display_name": "Python 3"
    },
    "language_info": {
      "name": "python"
    }
  },
  "cells": [
    {
      "cell_type": "markdown",
      "metadata": {
        "id": "view-in-github",
        "colab_type": "text"
      },
      "source": [
        "<a href=\"https://colab.research.google.com/github/manoj-dotcom/Machine-Learning/blob/main/ML_Lab1.ipynb\" target=\"_parent\"><img src=\"https://colab.research.google.com/assets/colab-badge.svg\" alt=\"Open In Colab\"/></a>"
      ]
    },
    {
      "cell_type": "markdown",
      "source": [
        "FIND-S ALGORITHM"
      ],
      "metadata": {
        "id": "GDgwmbUswtdj"
      }
    },
    {
      "cell_type": "code",
      "source": [
        "from google.colab import drive\n",
        "drive.mount('/content/drive')"
      ],
      "metadata": {
        "colab": {
          "base_uri": "https://localhost:8080/"
        },
        "id": "QRKXWbwcvlSz",
        "outputId": "fa7bb7e2-30c5-44d5-e014-0830eaf86653"
      },
      "execution_count": null,
      "outputs": [
        {
          "output_type": "stream",
          "name": "stdout",
          "text": [
            "Drive already mounted at /content/drive; to attempt to forcibly remount, call drive.mount(\"/content/drive\", force_remount=True).\n"
          ]
        }
      ]
    },
    {
      "cell_type": "code",
      "execution_count": null,
      "metadata": {
        "id": "fWU0txp_q0Yu",
        "colab": {
          "base_uri": "https://localhost:8080/"
        },
        "outputId": "b3a0be49-156e-4a3c-bdae-168ffbfc5fdc"
      },
      "outputs": [
        {
          "output_type": "stream",
          "name": "stdout",
          "text": [
            "['?' '?' 'warm' '?' 'strong' '?' '?']\n"
          ]
        }
      ],
      "source": [
        "import pandas as pd\n",
        "import numpy as np \n",
        "data=pd.read_csv('/content/drive/MyDrive/data1.csv')\n",
        "concepts=np.array(data)[:,:-1]\n",
        "target=np.array(data)[:,-1]\n",
        "def train(con,tar):\n",
        "  for i,val in enumerate(tar):\n",
        "    if val=='yes':\n",
        "      specific_h=con[i].copy()\n",
        "      break\n",
        "  for i,val in enumerate(con):\n",
        "    if tar[i]=='yes':\n",
        "      for x in range(len(specific_h)):\n",
        "        if val[x]!=specific_h[x]:\n",
        "          specific_h[x]='?'\n",
        "        else:\n",
        "          pass\n",
        "  return specific_h\n",
        "print(train(concepts,target))"
      ]
    },
    {
      "cell_type": "code",
      "source": [
        "name=(\"Arun\",\"Arjun\",\"Mithra\",\"Manoj\")\n",
        "maths=(90,85,80,91)\n",
        "Science=(85,79,80,87)\n",
        "Social=(88,81,79,80)\n",
        "English=(95,96,95,95)\n",
        "l=zip(name,maths,Science,Social,English)\n",
        "list(l)"
      ],
      "metadata": {
        "colab": {
          "base_uri": "https://localhost:8080/"
        },
        "id": "rDgrs_xvfJ4D",
        "outputId": "2c668631-a8e4-45ce-8914-cb17e447cdcf"
      },
      "execution_count": null,
      "outputs": [
        {
          "output_type": "execute_result",
          "data": {
            "text/plain": [
              "[('Arun', 90, 85, 88, 95),\n",
              " ('Arjun', 85, 79, 81, 96),\n",
              " ('Mithra', 80, 80, 79, 95),\n",
              " ('Manoj', 91, 87, 80, 95)]"
            ]
          },
          "metadata": {},
          "execution_count": 15
        }
      ]
    },
    {
      "cell_type": "code",
      "source": [
        "import pandas as pd\n",
        "import numpy as np \n",
        "data=pd.read_csv('/content/drive/MyDrive/data1.csv')\n",
        "print(data)\n"
      ],
      "metadata": {
        "colab": {
          "base_uri": "https://localhost:8080/"
        },
        "id": "XE22w5Z6gQfl",
        "outputId": "eb33b764-43cb-4795-d39e-16e997ce743c"
      },
      "execution_count": null,
      "outputs": [
        {
          "output_type": "stream",
          "name": "stdout",
          "text": [
            "   sno    sky air temp humidity    wind water forecast play sport\n",
            "0    1  sunny     warm   normal  strong  warm     same        yes\n",
            "1    2  sunny     warm     high  strong  warm     same        yes\n",
            "2    3  rainy     warm     high  strong  warm   change         no\n",
            "3    4  sunny     warm     high  strong  cool   change        yes\n",
            "4    5   snow     warm   medium  strong  cool   change        yes\n",
            "5    6  rainy     warm     high  strong  cool   change        yes\n"
          ]
        }
      ]
    },
    {
      "cell_type": "code",
      "source": [
        "x=np.array(data)[0,:]\n",
        "print(x)"
      ],
      "metadata": {
        "colab": {
          "base_uri": "https://localhost:8080/"
        },
        "id": "ahOR-7yfhHTD",
        "outputId": "c4d9159d-ede8-4bb0-8bec-97147caa3359"
      },
      "execution_count": null,
      "outputs": [
        {
          "output_type": "stream",
          "name": "stdout",
          "text": [
            "[1 'sunny' 'warm' 'normal' 'strong' 'warm' 'same' 'yes']\n"
          ]
        }
      ]
    }
  ]
}