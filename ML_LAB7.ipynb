{
  "nbformat": 4,
  "nbformat_minor": 0,
  "metadata": {
    "colab": {
      "provenance": [],
      "authorship_tag": "ABX9TyPdeoma13FKSWev6MDsMbrM",
      "include_colab_link": true
    },
    "kernelspec": {
      "name": "python3",
      "display_name": "Python 3"
    },
    "language_info": {
      "name": "python"
    }
  },
  "cells": [
    {
      "cell_type": "markdown",
      "metadata": {
        "id": "view-in-github",
        "colab_type": "text"
      },
      "source": [
        "<a href=\"https://colab.research.google.com/github/manoj-dotcom/Machine-Learning/blob/main/ML_LAB7.ipynb\" target=\"_parent\"><img src=\"https://colab.research.google.com/assets/colab-badge.svg\" alt=\"Open In Colab\"/></a>"
      ]
    },
    {
      "cell_type": "markdown",
      "source": [
        "Manoj Tilakchand-\n",
        "20X41A4442"
      ],
      "metadata": {
        "id": "iN7s5XdqTVK0"
      }
    },
    {
      "cell_type": "markdown",
      "source": [
        "SUPPORT VECTOR MACHINE"
      ],
      "metadata": {
        "id": "0ZJ9ril4T-PV"
      }
    },
    {
      "cell_type": "code",
      "execution_count": null,
      "metadata": {
        "colab": {
          "base_uri": "https://localhost:8080/"
        },
        "id": "eyoRtu1Dmxax",
        "outputId": "4436ebf1-6a0e-4420-8ce7-fb2781f055f9"
      },
      "outputs": [
        {
          "output_type": "execute_result",
          "data": {
            "text/plain": [
              "Pipeline(steps=[('scaler', StandardScaler()),\n",
              "                ('linear_svc', LinearSVC(C=1, loss='hinge'))])"
            ]
          },
          "metadata": {},
          "execution_count": 34
        }
      ],
      "source": [
        "#import the necessary packages\n",
        "import numpy as np\n",
        "from sklearn import datasets\n",
        "from sklearn.pipeline import Pipeline\n",
        "from sklearn.preprocessing import StandardScaler\n",
        "from sklearn.svm import LinearSVC\n",
        "#1 load iris data\n",
        "iris=datasets.load_iris()\n",
        "#2 define a new data wher setosa/versicolor is labelled as class 0 and  virginica as class 1\n",
        "X=iris[\"data\"][:,(2,3)]\n",
        "y=(iris[\"target\"]==2).astype(np.float64)#iris virginica\n",
        "#define a pipeline\n",
        "#(i)setting the feature vectors and \n",
        "#(ii)creating an empty SVM classifier object\n",
        "svm_clf=Pipeline([\n",
        "    (\"scaler\",StandardScaler()),\n",
        "    (\"linear_svc\",LinearSVC(C=1,loss=\"hinge\")),  \n",
        "])\n",
        "#4 train the classifier\n",
        "svm_clf.fit(X,y)\n",
        "#5 perform prediction oon test examples"
      ]
    },
    {
      "cell_type": "code",
      "source": [
        "svm_clf.predict([[5.40,1.77]])"
      ],
      "metadata": {
        "colab": {
          "base_uri": "https://localhost:8080/"
        },
        "id": "qJQNP8zf7zpM",
        "outputId": "ba6d6a82-9ac0-44cb-a49c-581eb47afea3"
      },
      "execution_count": null,
      "outputs": [
        {
          "output_type": "execute_result",
          "data": {
            "text/plain": [
              "array([1.])"
            ]
          },
          "metadata": {},
          "execution_count": 35
        }
      ]
    }
  ]
}